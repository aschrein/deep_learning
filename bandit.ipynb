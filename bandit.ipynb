{
 "cells": [
  {
   "cell_type": "code",
   "execution_count": 1,
   "metadata": {
    "collapsed": true
   },
   "outputs": [],
   "source": [
    "\n",
    "import numpy, random\n",
    "\n",
    "class Game:\n",
    "    def __init__(self,N):\n",
    "        self.values = numpy.zeros((N))\n",
    "        self.offsets = 1.0 * numpy.random.random((N))\n",
    "        self.N = N\n",
    "    def generate(self):\n",
    "        self.values = self.offsets + self.offsets*(2.0*numpy.random.random((self.N))-1.0)\n",
    "    def getValue(self,i):\n",
    "        return self.values[i]\n",
    "        \n",
    "game = Game(100)\n",
    "\n"
   ]
  },
  {
   "cell_type": "code",
   "execution_count": 2,
   "metadata": {},
   "outputs": [
    {
     "name": "stdout",
     "output_type": "stream",
     "text": [
      "explore: 0.0 458.404959386 92\n",
      "explore: 0.01 453.349517512 5\n",
      "explore: 0.05 471.393721522 17\n",
      "explore: 0.1 468.960883257 71\n",
      "explore: 0.5 509.074633179 6\n",
      "explore: 2.0 618.498577021 95\n",
      "explore: 4.0 607.942395571 95\n",
      "explore: 6.0 713.304330738 71\n",
      "explore: 8.0 726.331271764 61\n",
      "explore: 10.0 816.22975902 77\n",
      "explore: 20.0 881.29784825 12\n",
      "explore: 40.0 906.622328971 5\n",
      "explore: 60.0 891.760152541 92\n",
      "explore: 65.0 916.791604001 71\n",
      "explore: 70.0 896.721664457 5\n",
      "explore: 75.0 907.030295578 12\n",
      "explore: 80.0 891.216891786 77\n",
      "explore: 90.0 896.095524349 12\n",
      "explore: 100.0 916.106733639 77\n"
     ]
    }
   ],
   "source": [
    "import math\n",
    "\n",
    "class Gamer:\n",
    "    def __init__(self,e,N):\n",
    "        self.value = 0.0\n",
    "        self.e = e\n",
    "        self.N = N\n",
    "        self.lastMove = 0\n",
    "        self.values = numpy.zeros((N))\n",
    "        self.movesCount = numpy.zeros((N))\n",
    "        \n",
    "    def generate(self):\n",
    "        offsets = numpy.zeros((self.N))\n",
    "        sum = 0.0\n",
    "        for i in range(0,self.N):\n",
    "            sum += math.exp(self.e * (self.values[i] + 1.0) / (1.0 + self.movesCount[i]))\n",
    "            offsets[i] = sum\n",
    "            \n",
    "        rand = random.random()\n",
    "        \n",
    "        #print(rand,self.values,offsets/sum)\n",
    "        \n",
    "        for i in range(0,len(offsets)):\n",
    "            if rand < offsets[i]/sum:\n",
    "                self.movesCount[i ] += 1.0\n",
    "                #print(self.movesCount[i-1])\n",
    "                self.lastMove = i\n",
    "                return i \n",
    "            \n",
    "        raise Exception(\"error\")\n",
    "        \n",
    "    def feedback(self,result):\n",
    "        self.values[self.lastMove] += result\n",
    "        self.value += result\n",
    "    \n",
    "    def getReward(self):\n",
    "        return self.value\n",
    "    \n",
    "    def getMostValued(self):\n",
    "        max = 0.0\n",
    "        maxi = 0\n",
    "        for i in range(0,len(self.values)):\n",
    "            if self.values[i] > max:\n",
    "                max = self.values[i]\n",
    "                maxi = i\n",
    "        return maxi\n",
    "\n",
    "for e in [0.0,0.01,0.05,0.1,0.5,2.0,4.0,6.0,8.0,10.0,20.0,40.0,60.0,65.0,70.0,75.0,80.0,90.0,100.0]:\n",
    "    gamer = Gamer(e,100)\n",
    "    for gameId in range(0,1000):\n",
    "        game.generate()\n",
    "        i = gamer.generate()\n",
    "        gamer.feedback(game.getValue(i))\n",
    "    print(\"explore:\", gamer.e, gamer.getReward(),gamer.getMostValued())#,gamer.movesCount)"
   ]
  },
  {
   "cell_type": "code",
   "execution_count": null,
   "metadata": {
    "collapsed": true
   },
   "outputs": [],
   "source": []
  },
  {
   "cell_type": "code",
   "execution_count": null,
   "metadata": {
    "collapsed": true
   },
   "outputs": [],
   "source": []
  }
 ],
 "metadata": {
  "kernelspec": {
   "display_name": "Python 3",
   "language": "python",
   "name": "python3"
  },
  "language_info": {
   "codemirror_mode": {
    "name": "ipython",
    "version": 3
   },
   "file_extension": ".py",
   "mimetype": "text/x-python",
   "name": "python",
   "nbconvert_exporter": "python",
   "pygments_lexer": "ipython3",
   "version": "3.6.2"
  }
 },
 "nbformat": 4,
 "nbformat_minor": 2
}
