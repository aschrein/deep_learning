{
 "cells": [
  {
   "cell_type": "code",
   "execution_count": 3,
   "metadata": {},
   "outputs": [
    {
     "ename": "AttributeError",
     "evalue": "'_io.TextIOWrapper' object has no attribute 'writeline'",
     "output_type": "error",
     "traceback": [
      "\u001b[1;31m---------------------------------------------------------------------------\u001b[0m",
      "\u001b[1;31mAttributeError\u001b[0m                            Traceback (most recent call last)",
      "\u001b[1;32m<ipython-input-3-3846a0413ac3>\u001b[0m in \u001b[0;36m<module>\u001b[1;34m()\u001b[0m\n\u001b[0;32m     28\u001b[0m \u001b[1;33m\u001b[0m\u001b[0m\n\u001b[0;32m     29\u001b[0m \u001b[1;32mfor\u001b[0m \u001b[0mw\u001b[0m \u001b[1;32min\u001b[0m \u001b[0msorted\u001b[0m\u001b[1;33m(\u001b[0m\u001b[0mcounter\u001b[0m\u001b[1;33m,\u001b[0m \u001b[0mkey\u001b[0m\u001b[1;33m=\u001b[0m\u001b[0mcounter\u001b[0m\u001b[1;33m.\u001b[0m\u001b[0mget\u001b[0m\u001b[1;33m,\u001b[0m \u001b[0mreverse\u001b[0m\u001b[1;33m=\u001b[0m\u001b[1;32mTrue\u001b[0m\u001b[1;33m)\u001b[0m\u001b[1;33m:\u001b[0m\u001b[1;33m\u001b[0m\u001b[0m\n\u001b[1;32m---> 30\u001b[1;33m     \u001b[0mtable\u001b[0m\u001b[1;33m.\u001b[0m\u001b[0mwriteline\u001b[0m\u001b[1;33m(\u001b[0m\u001b[1;34m\"__________________\"\u001b[0m\u001b[1;33m)\u001b[0m\u001b[1;33m\u001b[0m\u001b[0m\n\u001b[0m\u001b[0;32m     31\u001b[0m     \u001b[0mtable\u001b[0m\u001b[1;33m.\u001b[0m\u001b[0mwrite\u001b[0m\u001b[1;33m(\u001b[0m\u001b[0mw\u001b[0m\u001b[1;33m)\u001b[0m\u001b[1;33m\u001b[0m\u001b[0m\n\u001b[0;32m     32\u001b[0m     \u001b[1;32mtry\u001b[0m\u001b[1;33m:\u001b[0m\u001b[1;33m\u001b[0m\u001b[0m\n",
      "\u001b[1;31mAttributeError\u001b[0m: '_io.TextIOWrapper' object has no attribute 'writeline'"
     ]
    }
   ],
   "source": [
    "from googletrans import Translator\n",
    "from PyDictionary import PyDictionary\n",
    "translator = Translator()\n",
    "dictionary=PyDictionary()\n",
    "\n",
    "sentences = open('book.txt', encoding=\"utf-8\").read().split(\".\")\n",
    "\n",
    "table = open( \"table.txt\" ,\"w\")\n",
    "\n",
    "counter = {}\n",
    "\n",
    "for i,item in enumerate(sentences):\n",
    "    replacements = { \",\", \":\" , \"'\" , \"\\\"\", \"-\" , \"\\t\", \"\\n\" , \"\\r\" , \"!\" , \"’\" , \"‘\" , \"?\"}\n",
    "    line = item\n",
    "    for replacement in replacements:\n",
    "        line = line.replace(replacement,\" \")\n",
    "    words = line.split(\" \")\n",
    "    for word in words:\n",
    "        if word == \"\":\n",
    "            continue\n",
    "        if not word in counter:\n",
    "            counter[word] = 1\n",
    "        else:\n",
    "            counter[word] = counter[word] + 1\n",
    "    #print(item)\n",
    "    #if i == 10000:\n",
    "     #   break#\n",
    "        \n",
    "for w in sorted(counter, key=counter.get, reverse=True):\n",
    "    table.writeline(\"__________________\")\n",
    "    table.write(w)\n",
    "    try:\n",
    "        meaning = dictionary.meaning(w)\n",
    "        if meaning != None:\n",
    "            table.write( meaning)\n",
    "    except:\n",
    "        pass\n",
    "    try:    \n",
    "        synonim = dictionary.synonym(w)\n",
    "        if synonim != None:\n",
    "            table.write(synonim)\n",
    "    except:\n",
    "        pass\n",
    "    translation = dictionary.translate(w,'ru')\n",
    "    if translation != None:\n",
    "        table.write()# translator.translate(text=w, dest='ru').text)"
   ]
  },
  {
   "cell_type": "code",
   "execution_count": null,
   "metadata": {
    "collapsed": true
   },
   "outputs": [],
   "source": []
  },
  {
   "cell_type": "code",
   "execution_count": null,
   "metadata": {
    "collapsed": true
   },
   "outputs": [],
   "source": []
  },
  {
   "cell_type": "code",
   "execution_count": null,
   "metadata": {
    "collapsed": true
   },
   "outputs": [],
   "source": []
  }
 ],
 "metadata": {
  "kernelspec": {
   "display_name": "Python 3",
   "language": "python",
   "name": "python3"
  }
 },
 "nbformat": 4,
 "nbformat_minor": 2
}
